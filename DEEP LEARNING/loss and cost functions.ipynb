{
 "cells": [
  {
   "cell_type": "code",
   "execution_count": 1,
   "id": "313d9ae2-6840-4fcd-be92-bb4aa6db9005",
   "metadata": {},
   "outputs": [],
   "source": [
    "from pyspark.sql import SparkSession\n",
    "spark= SparkSession.builder.appName('test').getOrCreate()"
   ]
  },
  {
   "cell_type": "code",
   "execution_count": 2,
   "id": "cec2ebc1-4d12-4a45-aef3-764037899d79",
   "metadata": {},
   "outputs": [
    {
     "data": {
      "text/html": [
       "\n",
       "            <div>\n",
       "                <p><b>SparkSession - in-memory</b></p>\n",
       "                \n",
       "        <div>\n",
       "            <p><b>SparkContext</b></p>\n",
       "\n",
       "            <p><a href=\"http://MJ:4040\">Spark UI</a></p>\n",
       "\n",
       "            <dl>\n",
       "              <dt>Version</dt>\n",
       "                <dd><code>v3.5.1</code></dd>\n",
       "              <dt>Master</dt>\n",
       "                <dd><code>local[*]</code></dd>\n",
       "              <dt>AppName</dt>\n",
       "                <dd><code>test</code></dd>\n",
       "            </dl>\n",
       "        </div>\n",
       "        \n",
       "            </div>\n",
       "        "
      ],
      "text/plain": [
       "<pyspark.sql.session.SparkSession at 0x2d2ffb63800>"
      ]
     },
     "execution_count": 2,
     "metadata": {},
     "output_type": "execute_result"
    }
   ],
   "source": [
    "spark"
   ]
  },
  {
   "cell_type": "code",
   "execution_count": 3,
   "id": "ff7918fa-dec3-4b4c-aa61-b9b0c5926a6c",
   "metadata": {},
   "outputs": [
    {
     "name": "stdout",
     "output_type": "stream",
     "text": [
      "Defaulting to user installation because normal site-packages is not writeable\n",
      "Looking in indexes: https://pypi.org/simple, https://pypi.ngc.nvidia.com\n",
      "Requirement already satisfied: polars in c:\\users\\mujtaba jafri\\appdata\\roaming\\python\\python312\\site-packages (0.20.13)\n"
     ]
    }
   ],
   "source": [
    "!pip install polars"
   ]
  },
  {
   "cell_type": "code",
   "execution_count": 4,
   "id": "9d4da4f0-46e1-42a1-9679-4443a5e3167b",
   "metadata": {},
   "outputs": [],
   "source": [
    "import polars as pl"
   ]
  },
  {
   "cell_type": "code",
   "execution_count": 6,
   "id": "b9cff2f4-b2cf-47f7-bb4f-1307a79e5f7d",
   "metadata": {},
   "outputs": [],
   "source": [
    "df=pl.read_csv('bhp.csv')"
   ]
  },
  {
   "cell_type": "code",
   "execution_count": 8,
   "id": "265689c4-fe63-49b7-aff2-2917983188aa",
   "metadata": {},
   "outputs": [
    {
     "data": {
      "text/html": [
       "<div><style>\n",
       ".dataframe > thead > tr,\n",
       ".dataframe > tbody > tr {\n",
       "  text-align: right;\n",
       "  white-space: pre-wrap;\n",
       "}\n",
       "</style>\n",
       "<small>shape: (2, 9)</small><table border=\"1\" class=\"dataframe\"><thead><tr><th>area_type</th><th>availability</th><th>location</th><th>size</th><th>society</th><th>total_sqft</th><th>bath</th><th>balcony</th><th>price</th></tr><tr><td>str</td><td>str</td><td>str</td><td>str</td><td>str</td><td>str</td><td>i64</td><td>i64</td><td>f64</td></tr></thead><tbody><tr><td>&quot;Super built-up…</td><td>&quot;19-Dec&quot;</td><td>&quot;Electronic Cit…</td><td>&quot;2 BHK&quot;</td><td>&quot;Coomee &quot;</td><td>&quot;1056&quot;</td><td>2</td><td>1</td><td>39.07</td></tr><tr><td>&quot;Plot  Area&quot;</td><td>&quot;Ready To Move&quot;</td><td>&quot;Chikka Tirupat…</td><td>&quot;4 Bedroom&quot;</td><td>&quot;Theanmp&quot;</td><td>&quot;2600&quot;</td><td>5</td><td>3</td><td>120.0</td></tr></tbody></table></div>"
      ],
      "text/plain": [
       "shape: (2, 9)\n",
       "┌──────────────────────┬───────────────┬─────────────────────────┬───────────┬───┬────────────┬──────┬─────────┬───────┐\n",
       "│ area_type            ┆ availability  ┆ location                ┆ size      ┆ … ┆ total_sqft ┆ bath ┆ balcony ┆ price │\n",
       "│ ---                  ┆ ---           ┆ ---                     ┆ ---       ┆   ┆ ---        ┆ ---  ┆ ---     ┆ ---   │\n",
       "│ str                  ┆ str           ┆ str                     ┆ str       ┆   ┆ str        ┆ i64  ┆ i64     ┆ f64   │\n",
       "╞══════════════════════╪═══════════════╪═════════════════════════╪═══════════╪═══╪════════════╪══════╪═════════╪═══════╡\n",
       "│ Super built-up  Area ┆ 19-Dec        ┆ Electronic City Phase   ┆ 2 BHK     ┆ … ┆ 1056       ┆ 2    ┆ 1       ┆ 39.07 │\n",
       "│                      ┆               ┆ II                      ┆           ┆   ┆            ┆      ┆         ┆       │\n",
       "│ Plot  Area           ┆ Ready To Move ┆ Chikka Tirupathi        ┆ 4 Bedroom ┆ … ┆ 2600       ┆ 5    ┆ 3       ┆ 120.0 │\n",
       "└──────────────────────┴───────────────┴─────────────────────────┴───────────┴───┴────────────┴──────┴─────────┴───────┘"
      ]
     },
     "execution_count": 8,
     "metadata": {},
     "output_type": "execute_result"
    }
   ],
   "source": [
    "df.head(2)"
   ]
  },
  {
   "cell_type": "code",
   "execution_count": 9,
   "id": "36ef2085-30ee-4f38-a1bd-4a1528a171b1",
   "metadata": {},
   "outputs": [
    {
     "data": {
      "text/plain": [
       "['area_type',\n",
       " 'availability',\n",
       " 'location',\n",
       " 'size',\n",
       " 'society',\n",
       " 'total_sqft',\n",
       " 'bath',\n",
       " 'balcony',\n",
       " 'price']"
      ]
     },
     "execution_count": 9,
     "metadata": {},
     "output_type": "execute_result"
    }
   ],
   "source": [
    "df.columns"
   ]
  },
  {
   "cell_type": "code",
   "execution_count": 11,
   "id": "e6103aab-9a3f-48cd-a686-d2adefdf9756",
   "metadata": {},
   "outputs": [
    {
     "data": {
      "text/html": [
       "<div><style>\n",
       ".dataframe > thead > tr,\n",
       ".dataframe > tbody > tr {\n",
       "  text-align: right;\n",
       "  white-space: pre-wrap;\n",
       "}\n",
       "</style>\n",
       "<small>shape: (13_320, 2)</small><table border=\"1\" class=\"dataframe\"><thead><tr><th>bath</th><th>price</th></tr><tr><td>i64</td><td>f64</td></tr></thead><tbody><tr><td>2</td><td>39.07</td></tr><tr><td>5</td><td>120.0</td></tr><tr><td>2</td><td>62.0</td></tr><tr><td>3</td><td>95.0</td></tr><tr><td>2</td><td>51.0</td></tr><tr><td>&hellip;</td><td>&hellip;</td></tr><tr><td>4</td><td>231.0</td></tr><tr><td>5</td><td>400.0</td></tr><tr><td>2</td><td>60.0</td></tr><tr><td>4</td><td>488.0</td></tr><tr><td>1</td><td>17.0</td></tr></tbody></table></div>"
      ],
      "text/plain": [
       "shape: (13_320, 2)\n",
       "┌──────┬───────┐\n",
       "│ bath ┆ price │\n",
       "│ ---  ┆ ---   │\n",
       "│ i64  ┆ f64   │\n",
       "╞══════╪═══════╡\n",
       "│ 2    ┆ 39.07 │\n",
       "│ 5    ┆ 120.0 │\n",
       "│ 2    ┆ 62.0  │\n",
       "│ 3    ┆ 95.0  │\n",
       "│ 2    ┆ 51.0  │\n",
       "│ …    ┆ …     │\n",
       "│ 4    ┆ 231.0 │\n",
       "│ 5    ┆ 400.0 │\n",
       "│ 2    ┆ 60.0  │\n",
       "│ 4    ┆ 488.0 │\n",
       "│ 1    ┆ 17.0  │\n",
       "└──────┴───────┘"
      ]
     },
     "execution_count": 11,
     "metadata": {},
     "output_type": "execute_result"
    }
   ],
   "source": [
    "df.select(pl.col('bath'))\n",
    "\n",
    "df.select(pl.col(['bath','price']))\n"
   ]
  },
  {
   "cell_type": "code",
   "execution_count": 12,
   "id": "d516b702-b12d-4537-91cc-1b4d4a95bbb8",
   "metadata": {},
   "outputs": [
    {
     "data": {
      "text/html": [
       "<div><style>\n",
       ".dataframe > thead > tr,\n",
       ".dataframe > tbody > tr {\n",
       "  text-align: right;\n",
       "  white-space: pre-wrap;\n",
       "}\n",
       "</style>\n",
       "<small>shape: (13_320, 9)</small><table border=\"1\" class=\"dataframe\"><thead><tr><th>area_type</th><th>availability</th><th>location</th><th>size</th><th>society</th><th>total_sqft</th><th>bath</th><th>balcony</th><th>price</th></tr><tr><td>str</td><td>str</td><td>str</td><td>str</td><td>str</td><td>str</td><td>i64</td><td>i64</td><td>f64</td></tr></thead><tbody><tr><td>&quot;Super built-up…</td><td>&quot;19-Dec&quot;</td><td>&quot;Electronic Cit…</td><td>&quot;2 BHK&quot;</td><td>&quot;Coomee &quot;</td><td>&quot;1056&quot;</td><td>2</td><td>1</td><td>39.07</td></tr><tr><td>&quot;Plot  Area&quot;</td><td>&quot;Ready To Move&quot;</td><td>&quot;Chikka Tirupat…</td><td>&quot;4 Bedroom&quot;</td><td>&quot;Theanmp&quot;</td><td>&quot;2600&quot;</td><td>5</td><td>3</td><td>120.0</td></tr><tr><td>&quot;Built-up  Area…</td><td>&quot;Ready To Move&quot;</td><td>&quot;Uttarahalli&quot;</td><td>&quot;3 BHK&quot;</td><td>null</td><td>&quot;1440&quot;</td><td>2</td><td>3</td><td>62.0</td></tr><tr><td>&quot;Super built-up…</td><td>&quot;Ready To Move&quot;</td><td>&quot;Lingadheeranah…</td><td>&quot;3 BHK&quot;</td><td>&quot;Soiewre&quot;</td><td>&quot;1521&quot;</td><td>3</td><td>1</td><td>95.0</td></tr><tr><td>&quot;Super built-up…</td><td>&quot;Ready To Move&quot;</td><td>&quot;Kothanur&quot;</td><td>&quot;2 BHK&quot;</td><td>null</td><td>&quot;1200&quot;</td><td>2</td><td>1</td><td>51.0</td></tr><tr><td>&hellip;</td><td>&hellip;</td><td>&hellip;</td><td>&hellip;</td><td>&hellip;</td><td>&hellip;</td><td>&hellip;</td><td>&hellip;</td><td>&hellip;</td></tr><tr><td>&quot;Built-up  Area…</td><td>&quot;Ready To Move&quot;</td><td>&quot;Whitefield&quot;</td><td>&quot;5 Bedroom&quot;</td><td>&quot;ArsiaEx&quot;</td><td>&quot;3453&quot;</td><td>4</td><td>0</td><td>231.0</td></tr><tr><td>&quot;Super built-up…</td><td>&quot;Ready To Move&quot;</td><td>&quot;Richards Town&quot;</td><td>&quot;4 BHK&quot;</td><td>null</td><td>&quot;3600&quot;</td><td>5</td><td>null</td><td>400.0</td></tr><tr><td>&quot;Built-up  Area…</td><td>&quot;Ready To Move&quot;</td><td>&quot;Raja Rajeshwar…</td><td>&quot;2 BHK&quot;</td><td>&quot;Mahla T&quot;</td><td>&quot;1141&quot;</td><td>2</td><td>1</td><td>60.0</td></tr><tr><td>&quot;Super built-up…</td><td>&quot;18-Jun&quot;</td><td>&quot;Padmanabhanaga…</td><td>&quot;4 BHK&quot;</td><td>&quot;SollyCl&quot;</td><td>&quot;4689&quot;</td><td>4</td><td>1</td><td>488.0</td></tr><tr><td>&quot;Super built-up…</td><td>&quot;Ready To Move&quot;</td><td>&quot;Doddathoguru&quot;</td><td>&quot;1 BHK&quot;</td><td>null</td><td>&quot;550&quot;</td><td>1</td><td>1</td><td>17.0</td></tr></tbody></table></div>"
      ],
      "text/plain": [
       "shape: (13_320, 9)\n",
       "┌──────────────────────┬───────────────┬─────────────────────────┬───────────┬───┬────────────┬──────┬─────────┬───────┐\n",
       "│ area_type            ┆ availability  ┆ location                ┆ size      ┆ … ┆ total_sqft ┆ bath ┆ balcony ┆ price │\n",
       "│ ---                  ┆ ---           ┆ ---                     ┆ ---       ┆   ┆ ---        ┆ ---  ┆ ---     ┆ ---   │\n",
       "│ str                  ┆ str           ┆ str                     ┆ str       ┆   ┆ str        ┆ i64  ┆ i64     ┆ f64   │\n",
       "╞══════════════════════╪═══════════════╪═════════════════════════╪═══════════╪═══╪════════════╪══════╪═════════╪═══════╡\n",
       "│ Super built-up  Area ┆ 19-Dec        ┆ Electronic City Phase   ┆ 2 BHK     ┆ … ┆ 1056       ┆ 2    ┆ 1       ┆ 39.07 │\n",
       "│                      ┆               ┆ II                      ┆           ┆   ┆            ┆      ┆         ┆       │\n",
       "│ Plot  Area           ┆ Ready To Move ┆ Chikka Tirupathi        ┆ 4 Bedroom ┆ … ┆ 2600       ┆ 5    ┆ 3       ┆ 120.0 │\n",
       "│ Built-up  Area       ┆ Ready To Move ┆ Uttarahalli             ┆ 3 BHK     ┆ … ┆ 1440       ┆ 2    ┆ 3       ┆ 62.0  │\n",
       "│ Super built-up  Area ┆ Ready To Move ┆ Lingadheeranahalli      ┆ 3 BHK     ┆ … ┆ 1521       ┆ 3    ┆ 1       ┆ 95.0  │\n",
       "│ Super built-up  Area ┆ Ready To Move ┆ Kothanur                ┆ 2 BHK     ┆ … ┆ 1200       ┆ 2    ┆ 1       ┆ 51.0  │\n",
       "│ …                    ┆ …             ┆ …                       ┆ …         ┆ … ┆ …          ┆ …    ┆ …       ┆ …     │\n",
       "│ Built-up  Area       ┆ Ready To Move ┆ Whitefield              ┆ 5 Bedroom ┆ … ┆ 3453       ┆ 4    ┆ 0       ┆ 231.0 │\n",
       "│ Super built-up  Area ┆ Ready To Move ┆ Richards Town           ┆ 4 BHK     ┆ … ┆ 3600       ┆ 5    ┆ null    ┆ 400.0 │\n",
       "│ Built-up  Area       ┆ Ready To Move ┆ Raja Rajeshwari Nagar   ┆ 2 BHK     ┆ … ┆ 1141       ┆ 2    ┆ 1       ┆ 60.0  │\n",
       "│ Super built-up  Area ┆ 18-Jun        ┆ Padmanabhanagar         ┆ 4 BHK     ┆ … ┆ 4689       ┆ 4    ┆ 1       ┆ 488.0 │\n",
       "│ Super built-up  Area ┆ Ready To Move ┆ Doddathoguru            ┆ 1 BHK     ┆ … ┆ 550        ┆ 1    ┆ 1       ┆ 17.0  │\n",
       "└──────────────────────┴───────────────┴─────────────────────────┴───────────┴───┴────────────┴──────┴─────────┴───────┘"
      ]
     },
     "execution_count": 12,
     "metadata": {},
     "output_type": "execute_result"
    }
   ],
   "source": [
    "#select all columns\n",
    "df.select(pl.col('*'))"
   ]
  },
  {
   "cell_type": "code",
   "execution_count": 14,
   "id": "fc861023-041d-42da-9090-c2a598047010",
   "metadata": {},
   "outputs": [
    {
     "data": {
      "text/html": [
       "<div><style>\n",
       ".dataframe > thead > tr,\n",
       ".dataframe > tbody > tr {\n",
       "  text-align: right;\n",
       "  white-space: pre-wrap;\n",
       "}\n",
       "</style>\n",
       "<small>shape: (13_320, 10)</small><table border=\"1\" class=\"dataframe\"><thead><tr><th>area_type</th><th>availability</th><th>location</th><th>size</th><th>society</th><th>total_sqft</th><th>bath</th><th>balcony</th><th>price</th><th>2Xsum</th></tr><tr><td>str</td><td>str</td><td>str</td><td>str</td><td>str</td><td>str</td><td>i64</td><td>i64</td><td>f64</td><td>f64</td></tr></thead><tbody><tr><td>&quot;Super built-up…</td><td>&quot;19-Dec&quot;</td><td>&quot;Electronic Cit…</td><td>&quot;2 BHK&quot;</td><td>&quot;Coomee &quot;</td><td>&quot;1056&quot;</td><td>2</td><td>1</td><td>39.07</td><td>78.14</td></tr><tr><td>&quot;Plot  Area&quot;</td><td>&quot;Ready To Move&quot;</td><td>&quot;Chikka Tirupat…</td><td>&quot;4 Bedroom&quot;</td><td>&quot;Theanmp&quot;</td><td>&quot;2600&quot;</td><td>5</td><td>3</td><td>120.0</td><td>240.0</td></tr><tr><td>&quot;Built-up  Area…</td><td>&quot;Ready To Move&quot;</td><td>&quot;Uttarahalli&quot;</td><td>&quot;3 BHK&quot;</td><td>null</td><td>&quot;1440&quot;</td><td>2</td><td>3</td><td>62.0</td><td>124.0</td></tr><tr><td>&quot;Super built-up…</td><td>&quot;Ready To Move&quot;</td><td>&quot;Lingadheeranah…</td><td>&quot;3 BHK&quot;</td><td>&quot;Soiewre&quot;</td><td>&quot;1521&quot;</td><td>3</td><td>1</td><td>95.0</td><td>190.0</td></tr><tr><td>&quot;Super built-up…</td><td>&quot;Ready To Move&quot;</td><td>&quot;Kothanur&quot;</td><td>&quot;2 BHK&quot;</td><td>null</td><td>&quot;1200&quot;</td><td>2</td><td>1</td><td>51.0</td><td>102.0</td></tr><tr><td>&hellip;</td><td>&hellip;</td><td>&hellip;</td><td>&hellip;</td><td>&hellip;</td><td>&hellip;</td><td>&hellip;</td><td>&hellip;</td><td>&hellip;</td><td>&hellip;</td></tr><tr><td>&quot;Built-up  Area…</td><td>&quot;Ready To Move&quot;</td><td>&quot;Whitefield&quot;</td><td>&quot;5 Bedroom&quot;</td><td>&quot;ArsiaEx&quot;</td><td>&quot;3453&quot;</td><td>4</td><td>0</td><td>231.0</td><td>462.0</td></tr><tr><td>&quot;Super built-up…</td><td>&quot;Ready To Move&quot;</td><td>&quot;Richards Town&quot;</td><td>&quot;4 BHK&quot;</td><td>null</td><td>&quot;3600&quot;</td><td>5</td><td>null</td><td>400.0</td><td>800.0</td></tr><tr><td>&quot;Built-up  Area…</td><td>&quot;Ready To Move&quot;</td><td>&quot;Raja Rajeshwar…</td><td>&quot;2 BHK&quot;</td><td>&quot;Mahla T&quot;</td><td>&quot;1141&quot;</td><td>2</td><td>1</td><td>60.0</td><td>120.0</td></tr><tr><td>&quot;Super built-up…</td><td>&quot;18-Jun&quot;</td><td>&quot;Padmanabhanaga…</td><td>&quot;4 BHK&quot;</td><td>&quot;SollyCl&quot;</td><td>&quot;4689&quot;</td><td>4</td><td>1</td><td>488.0</td><td>976.0</td></tr><tr><td>&quot;Super built-up…</td><td>&quot;Ready To Move&quot;</td><td>&quot;Doddathoguru&quot;</td><td>&quot;1 BHK&quot;</td><td>null</td><td>&quot;550&quot;</td><td>1</td><td>1</td><td>17.0</td><td>34.0</td></tr></tbody></table></div>"
      ],
      "text/plain": [
       "shape: (13_320, 10)\n",
       "┌──────────────────────┬───────────────┬──────────────────────────┬───────────┬───┬──────┬─────────┬───────┬───────┐\n",
       "│ area_type            ┆ availability  ┆ location                 ┆ size      ┆ … ┆ bath ┆ balcony ┆ price ┆ 2Xsum │\n",
       "│ ---                  ┆ ---           ┆ ---                      ┆ ---       ┆   ┆ ---  ┆ ---     ┆ ---   ┆ ---   │\n",
       "│ str                  ┆ str           ┆ str                      ┆ str       ┆   ┆ i64  ┆ i64     ┆ f64   ┆ f64   │\n",
       "╞══════════════════════╪═══════════════╪══════════════════════════╪═══════════╪═══╪══════╪═════════╪═══════╪═══════╡\n",
       "│ Super built-up  Area ┆ 19-Dec        ┆ Electronic City Phase II ┆ 2 BHK     ┆ … ┆ 2    ┆ 1       ┆ 39.07 ┆ 78.14 │\n",
       "│ Plot  Area           ┆ Ready To Move ┆ Chikka Tirupathi         ┆ 4 Bedroom ┆ … ┆ 5    ┆ 3       ┆ 120.0 ┆ 240.0 │\n",
       "│ Built-up  Area       ┆ Ready To Move ┆ Uttarahalli              ┆ 3 BHK     ┆ … ┆ 2    ┆ 3       ┆ 62.0  ┆ 124.0 │\n",
       "│ Super built-up  Area ┆ Ready To Move ┆ Lingadheeranahalli       ┆ 3 BHK     ┆ … ┆ 3    ┆ 1       ┆ 95.0  ┆ 190.0 │\n",
       "│ Super built-up  Area ┆ Ready To Move ┆ Kothanur                 ┆ 2 BHK     ┆ … ┆ 2    ┆ 1       ┆ 51.0  ┆ 102.0 │\n",
       "│ …                    ┆ …             ┆ …                        ┆ …         ┆ … ┆ …    ┆ …       ┆ …     ┆ …     │\n",
       "│ Built-up  Area       ┆ Ready To Move ┆ Whitefield               ┆ 5 Bedroom ┆ … ┆ 4    ┆ 0       ┆ 231.0 ┆ 462.0 │\n",
       "│ Super built-up  Area ┆ Ready To Move ┆ Richards Town            ┆ 4 BHK     ┆ … ┆ 5    ┆ null    ┆ 400.0 ┆ 800.0 │\n",
       "│ Built-up  Area       ┆ Ready To Move ┆ Raja Rajeshwari Nagar    ┆ 2 BHK     ┆ … ┆ 2    ┆ 1       ┆ 60.0  ┆ 120.0 │\n",
       "│ Super built-up  Area ┆ 18-Jun        ┆ Padmanabhanagar          ┆ 4 BHK     ┆ … ┆ 4    ┆ 1       ┆ 488.0 ┆ 976.0 │\n",
       "│ Super built-up  Area ┆ Ready To Move ┆ Doddathoguru             ┆ 1 BHK     ┆ … ┆ 1    ┆ 1       ┆ 17.0  ┆ 34.0  │\n",
       "└──────────────────────┴───────────────┴──────────────────────────┴───────────┴───┴──────┴─────────┴───────┴───────┘"
      ]
     },
     "execution_count": 14,
     "metadata": {},
     "output_type": "execute_result"
    }
   ],
   "source": [
    "df.with_columns(\n",
    "    (pl.col('price')+ pl.col('price')).alias('2Xsum')\n",
    ")"
   ]
  },
  {
   "cell_type": "code",
   "execution_count": 15,
   "id": "0228fdbf-f6e2-4b00-accd-8c38ef5d33d5",
   "metadata": {},
   "outputs": [
    {
     "data": {
      "text/html": [
       "<div><style>\n",
       ".dataframe > thead > tr,\n",
       ".dataframe > tbody > tr {\n",
       "  text-align: right;\n",
       "  white-space: pre-wrap;\n",
       "}\n",
       "</style>\n",
       "<small>shape: (3_286, 9)</small><table border=\"1\" class=\"dataframe\"><thead><tr><th>area_type</th><th>availability</th><th>location</th><th>size</th><th>society</th><th>total_sqft</th><th>bath</th><th>balcony</th><th>price</th></tr><tr><td>str</td><td>str</td><td>str</td><td>str</td><td>str</td><td>str</td><td>i64</td><td>i64</td><td>f64</td></tr></thead><tbody><tr><td>&quot;Super built-up…</td><td>&quot;Ready To Move&quot;</td><td>&quot;Lingadheeranah…</td><td>&quot;3 BHK&quot;</td><td>&quot;Soiewre&quot;</td><td>&quot;1521&quot;</td><td>3</td><td>1</td><td>95.0</td></tr><tr><td>&quot;Super built-up…</td><td>&quot;Ready To Move&quot;</td><td>&quot;Marathahalli&quot;</td><td>&quot;3 BHK&quot;</td><td>null</td><td>&quot;1310&quot;</td><td>3</td><td>1</td><td>63.25</td></tr><tr><td>&quot;Plot  Area&quot;</td><td>&quot;Ready To Move&quot;</td><td>&quot;Sarjapur&quot;</td><td>&quot;3 Bedroom&quot;</td><td>&quot;Skityer&quot;</td><td>&quot;2250&quot;</td><td>3</td><td>2</td><td>148.0</td></tr><tr><td>&quot;Super built-up…</td><td>&quot;Ready To Move&quot;</td><td>&quot;Bisuvanahalli&quot;</td><td>&quot;3 BHK&quot;</td><td>&quot;Prityel&quot;</td><td>&quot;1180&quot;</td><td>3</td><td>2</td><td>48.0</td></tr><tr><td>&quot;Super built-up…</td><td>&quot;Ready To Move&quot;</td><td>&quot;Raja Rajeshwar…</td><td>&quot;3 BHK&quot;</td><td>&quot;GrrvaGr&quot;</td><td>&quot;1540&quot;</td><td>3</td><td>3</td><td>60.0</td></tr><tr><td>&hellip;</td><td>&hellip;</td><td>&hellip;</td><td>&hellip;</td><td>&hellip;</td><td>&hellip;</td><td>&hellip;</td><td>&hellip;</td><td>&hellip;</td></tr><tr><td>&quot;Super built-up…</td><td>&quot;Ready To Move&quot;</td><td>&quot;Kothanur&quot;</td><td>&quot;3 BHK&quot;</td><td>null</td><td>&quot;1454&quot;</td><td>3</td><td>3</td><td>71.5</td></tr><tr><td>&quot;Built-up  Area…</td><td>&quot;Ready To Move&quot;</td><td>&quot;Billekahalli&quot;</td><td>&quot;3 BHK&quot;</td><td>null</td><td>&quot;1805&quot;</td><td>3</td><td>3</td><td>134.0</td></tr><tr><td>&quot;Built-up  Area…</td><td>&quot;Ready To Move&quot;</td><td>&quot;Bannerghatta R…</td><td>&quot;3 BHK&quot;</td><td>&quot;Baanise&quot;</td><td>&quot;1527&quot;</td><td>3</td><td>1</td><td>142.0</td></tr><tr><td>&quot;Super built-up…</td><td>&quot;Ready To Move&quot;</td><td>&quot;Yeshwanthpur&quot;</td><td>&quot;3 BHK&quot;</td><td>&quot;IBityin&quot;</td><td>&quot;1675&quot;</td><td>3</td><td>null</td><td>92.13</td></tr><tr><td>&quot;Super built-up…</td><td>&quot;Ready To Move&quot;</td><td>&quot;Green Glen Lay…</td><td>&quot;3 BHK&quot;</td><td>&quot;SoosePr&quot;</td><td>&quot;1715&quot;</td><td>3</td><td>3</td><td>112.0</td></tr></tbody></table></div>"
      ],
      "text/plain": [
       "shape: (3_286, 9)\n",
       "┌──────────────────────┬───────────────┬───────────────────────┬───────────┬───┬────────────┬──────┬─────────┬───────┐\n",
       "│ area_type            ┆ availability  ┆ location              ┆ size      ┆ … ┆ total_sqft ┆ bath ┆ balcony ┆ price │\n",
       "│ ---                  ┆ ---           ┆ ---                   ┆ ---       ┆   ┆ ---        ┆ ---  ┆ ---     ┆ ---   │\n",
       "│ str                  ┆ str           ┆ str                   ┆ str       ┆   ┆ str        ┆ i64  ┆ i64     ┆ f64   │\n",
       "╞══════════════════════╪═══════════════╪═══════════════════════╪═══════════╪═══╪════════════╪══════╪═════════╪═══════╡\n",
       "│ Super built-up  Area ┆ Ready To Move ┆ Lingadheeranahalli    ┆ 3 BHK     ┆ … ┆ 1521       ┆ 3    ┆ 1       ┆ 95.0  │\n",
       "│ Super built-up  Area ┆ Ready To Move ┆ Marathahalli          ┆ 3 BHK     ┆ … ┆ 1310       ┆ 3    ┆ 1       ┆ 63.25 │\n",
       "│ Plot  Area           ┆ Ready To Move ┆ Sarjapur              ┆ 3 Bedroom ┆ … ┆ 2250       ┆ 3    ┆ 2       ┆ 148.0 │\n",
       "│ Super built-up  Area ┆ Ready To Move ┆ Bisuvanahalli         ┆ 3 BHK     ┆ … ┆ 1180       ┆ 3    ┆ 2       ┆ 48.0  │\n",
       "│ Super built-up  Area ┆ Ready To Move ┆ Raja Rajeshwari Nagar ┆ 3 BHK     ┆ … ┆ 1540       ┆ 3    ┆ 3       ┆ 60.0  │\n",
       "│ …                    ┆ …             ┆ …                     ┆ …         ┆ … ┆ …          ┆ …    ┆ …       ┆ …     │\n",
       "│ Super built-up  Area ┆ Ready To Move ┆ Kothanur              ┆ 3 BHK     ┆ … ┆ 1454       ┆ 3    ┆ 3       ┆ 71.5  │\n",
       "│ Built-up  Area       ┆ Ready To Move ┆ Billekahalli          ┆ 3 BHK     ┆ … ┆ 1805       ┆ 3    ┆ 3       ┆ 134.0 │\n",
       "│ Built-up  Area       ┆ Ready To Move ┆ Bannerghatta Road     ┆ 3 BHK     ┆ … ┆ 1527       ┆ 3    ┆ 1       ┆ 142.0 │\n",
       "│ Super built-up  Area ┆ Ready To Move ┆ Yeshwanthpur          ┆ 3 BHK     ┆ … ┆ 1675       ┆ 3    ┆ null    ┆ 92.13 │\n",
       "│ Super built-up  Area ┆ Ready To Move ┆ Green Glen Layout     ┆ 3 BHK     ┆ … ┆ 1715       ┆ 3    ┆ 3       ┆ 112.0 │\n",
       "└──────────────────────┴───────────────┴───────────────────────┴───────────┴───┴────────────┴──────┴─────────┴───────┘"
      ]
     },
     "execution_count": 15,
     "metadata": {},
     "output_type": "execute_result"
    }
   ],
   "source": [
    "df.filter(pl.col('bath')==3)\n"
   ]
  },
  {
   "cell_type": "code",
   "execution_count": null,
   "id": "1e5beaca-0de0-4efa-97e7-6617ddd0ad84",
   "metadata": {},
   "outputs": [],
   "source": []
  },
  {
   "cell_type": "code",
   "execution_count": null,
   "id": "c5db874a-b767-46d2-9267-041597e1c710",
   "metadata": {},
   "outputs": [],
   "source": []
  },
  {
   "cell_type": "code",
   "execution_count": null,
   "id": "499372c5-0122-474c-b8f7-9d9021b7501a",
   "metadata": {},
   "outputs": [],
   "source": []
  },
  {
   "cell_type": "code",
   "execution_count": null,
   "id": "c17bb353-beab-4f71-bdbe-80f590e0518d",
   "metadata": {},
   "outputs": [],
   "source": []
  },
  {
   "cell_type": "code",
   "execution_count": null,
   "id": "4fde8eab-e47f-4dba-bd66-89da2a34fa13",
   "metadata": {},
   "outputs": [],
   "source": []
  },
  {
   "cell_type": "code",
   "execution_count": null,
   "id": "e071a65d-eab6-47b6-b47b-281d446bacdf",
   "metadata": {},
   "outputs": [],
   "source": []
  },
  {
   "cell_type": "code",
   "execution_count": null,
   "id": "028c280f-d667-4e55-aa50-16e64f1e9fc9",
   "metadata": {},
   "outputs": [],
   "source": []
  },
  {
   "cell_type": "code",
   "execution_count": null,
   "id": "d588f3e1-ca26-47c6-8073-6dd421cc508f",
   "metadata": {},
   "outputs": [],
   "source": []
  },
  {
   "cell_type": "code",
   "execution_count": null,
   "id": "f96e64f6-40d8-4d29-bd9b-549b2dd6f7f4",
   "metadata": {},
   "outputs": [],
   "source": []
  }
 ],
 "metadata": {
  "kernelspec": {
   "display_name": "Python 3 (ipykernel)",
   "language": "python",
   "name": "python3"
  },
  "language_info": {
   "codemirror_mode": {
    "name": "ipython",
    "version": 3
   },
   "file_extension": ".py",
   "mimetype": "text/x-python",
   "name": "python",
   "nbconvert_exporter": "python",
   "pygments_lexer": "ipython3",
   "version": "3.12.1"
  }
 },
 "nbformat": 4,
 "nbformat_minor": 5
}
