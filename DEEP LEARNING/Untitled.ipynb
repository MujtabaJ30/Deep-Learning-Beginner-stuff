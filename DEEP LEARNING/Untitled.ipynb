{
 "cells": [
  {
   "cell_type": "code",
   "execution_count": 1,
   "id": "994186ea-9ae6-4bb2-9d88-e94145935017",
   "metadata": {},
   "outputs": [
    {
     "name": "stdout",
     "output_type": "stream",
     "text": [
      "Expectation of f(x): 0.2432541036964099\n",
      "Expectation of x: 4.999999999999999\n",
      "f(Expectation of x): 0.20000000000000004\n",
      "Jensen's Inequality Verified: True\n"
     ]
    }
   ],
   "source": [
    "import numpy as np\n",
    "from scipy.stats import binom\n",
    "\n",
    "# Define the function\n",
    "def f(x):\n",
    "    return 1 / x\n",
    "\n",
    "# Parameters for binomial random variable\n",
    "p = 1/4\n",
    "n = 20\n",
    "\n",
    "# Define the binomial random variable\n",
    "rv = binom(n, p)\n",
    "\n",
    "# Calculate the expectation of f(x)\n",
    "expectation_f_x = sum(f(x) * rv.pmf(x) for x in range(1, n+1))\n",
    "\n",
    "# Calculate the expectation of x and apply f to it\n",
    "expectation_x = sum(x * rv.pmf(x) for x in range(1, n+1))\n",
    "expectation_f_expectation_x = f(expectation_x)\n",
    "\n",
    "# Verify Jensen's Inequality\n",
    "jensens_inequality_verified = expectation_f_x >= expectation_f_expectation_x\n",
    "\n",
    "# Output the results\n",
    "print(\"Expectation of f(x):\", expectation_f_x)\n",
    "print(\"Expectation of x:\", expectation_x)\n",
    "print(\"f(Expectation of x):\", expectation_f_expectation_x)\n",
    "print(\"Jensen's Inequality Verified:\", jensens_inequality_verified)\n"
   ]
  }
 ],
 "metadata": {
  "kernelspec": {
   "display_name": "Python 3 (ipykernel)",
   "language": "python",
   "name": "python3"
  },
  "language_info": {
   "codemirror_mode": {
    "name": "ipython",
    "version": 3
   },
   "file_extension": ".py",
   "mimetype": "text/x-python",
   "name": "python",
   "nbconvert_exporter": "python",
   "pygments_lexer": "ipython3",
   "version": "3.12.1"
  }
 },
 "nbformat": 4,
 "nbformat_minor": 5
}
